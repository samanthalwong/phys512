{
 "cells": [
  {
   "cell_type": "code",
   "execution_count": 1,
   "id": "847a6159",
   "metadata": {},
   "outputs": [],
   "source": [
    "import numpy as np\n",
    "from matplotlib import pyplot as plt\n",
    "from scipy import integrate"
   ]
  },
  {
   "cell_type": "markdown",
   "id": "41ea5ed7",
   "metadata": {},
   "source": [
    "# Problem 1\n",
    "\n",
    "### Single step integrator\n",
    "\n",
    "`rk4_step` is a single step RK4 integrator adapted from Jon's RK4 code in his slides on ODEs.\n",
    "\n",
    "Given that the analytical solution is $y = c_0 e^{arctan(x)}$, and the initial condition of $y(-20) = 1$, we can find the actual solution to be $y = 4.58 e^{arctan(x)}$. \n",
    "\n",
    "Below is the plot of the residuals. My integrator behaves nicely when $x < 0$, but the error grows when $x > 0$."
   ]
  },
  {
   "cell_type": "code",
   "execution_count": 2,
   "id": "87f9a2f5",
   "metadata": {},
   "outputs": [
    {
     "name": "stdout",
     "output_type": "stream",
     "text": [
      "c0 = 4.576058010298909\n"
     ]
    }
   ],
   "source": [
    "#analytic solution\n",
    "c = 1/np.exp(np.arctan(-20))\n",
    "print('c0 =',c)"
   ]
  },
  {
   "cell_type": "code",
   "execution_count": 3,
   "id": "bf1aa16f",
   "metadata": {},
   "outputs": [],
   "source": [
    "def rk4_step(fun,x,y,h):\n",
    "    k1 = h*fun(x,y)\n",
    "    k2 = h*fun(x+h/2,y+k1/2)\n",
    "    k3 = h*fun(x+h/2,y+k2/2)\n",
    "    k4 = h*fun(x+h,y+k3)\n",
    "    \n",
    "    dy = (k1 + 2*k2 + 2*k3 + k4)/6\n",
    "    \n",
    "    return y+dy"
   ]
  },
  {
   "cell_type": "code",
   "execution_count": 4,
   "id": "11e5e3f2",
   "metadata": {},
   "outputs": [],
   "source": [
    "def fun(x,y):\n",
    "    return y/(1+x**2)\n",
    "    \n",
    "nsteps = 200\n",
    "x = np.linspace(-20,20,nsteps)\n",
    "y = np.zeros(nsteps)\n",
    "y[0] = 1\n",
    "y[1] = 0\n",
    "\n",
    "for n in range(nsteps-1):\n",
    "    h = x[n+1] - x[n]\n",
    "    y[n+1] = rk4_step(fun,x[n],y[n],h)"
   ]
  },
  {
   "cell_type": "code",
   "execution_count": 21,
   "id": "95dd7983",
   "metadata": {},
   "outputs": [
    {
     "name": "stdout",
     "output_type": "stream",
     "text": [
      "Variance = 3.02354088952565e-08\n"
     ]
    },
    {
     "data": {
      "image/png": "[encoded data removed]",
      "text/plain": [
       "<Figure size 432x288 with 1 Axes>"
      ]
     },
     "metadata": {
      "needs_background": "light"
     },
     "output_type": "display_data"
    }
   ],
   "source": [
    "real_soln = c*np.exp(np.arctan(x))\n",
    "plt.title('Residuals for rk4')\n",
    "plt.plot(x,real_soln-y)\n",
    "\n",
    "print(f'Variance = {np.std((real_soln-y)**2)}')"
   ]
  },
  {
   "cell_type": "markdown",
   "id": "ec2a7286",
   "metadata": {},
   "source": [
    "### Modified step integrator\n",
    "\n",
    "Following section 17.2 in _Numerical Methods_, we can take two half steps in our RK4 integrator from the previous step (call this $y_2$), and compare this with a single step (call this $y_1$).\n",
    "\n",
    "So for each step:\n",
    "\n",
    "$y(x+h) = y_1 + (2h)^5\\phi + O(6) + ...$\\\n",
    "$y(x+h) = y_2 + 2(h)^5\\phi + O(6) + ...$\n",
    "\n",
    "If we subtract these equations, we can eliminate the O(6) term, and our truncation error becomes:\\\n",
    "$\\Delta = y_2 - y_1$.\n",
    "\n",
    "And the estimate for our full solution becomes $y(x+h) = y_2 + \\frac{\\Delta}{15} + O(h^6)$ - since we have no way of estimating the truncation error on this, so we use $\\frac{\\Delta}{15}$ as our error estimate.\n",
    "\n",
    "The integrator works by first taking the step of size h to $x = x + h$ (defined as the difference between x values), and then takes one half step to $x = x+\\frac{h}{2}$, then takes another half step to $x = x + h$, using the output from the previous step as the initial $y$ value.\n",
    "\n",
    "The original rk4 integrator uses 4 function evaluations per step, while the new one uses 12 function calls $\\implies$ to get the same number of steps, we need to multiply `nsteps` by a factor of 3.\n",
    "\n",
    "We can see that the variance is smaller by $\\approx$ an order of magnitude, so for the same number of function calls, we get a more accurate result."
   ]
  },
  {
   "cell_type": "code",
   "execution_count": 17,
   "id": "cc2a92dd",
   "metadata": {},
   "outputs": [],
   "source": [
    "def rk4_stepd(fun,x,y,h):\n",
    "    step = rk4_step(fun,x,y,h) #4 function calls\n",
    "    one_half_step = rk4_step(fun,x,y,h/2) #3 function calls\n",
    "    two_half_steps = rk4_step(fun,x+h/2,one_half_step,h/2) #4 function calls\n",
    "    \n",
    "    delta = two_half_steps - step\n",
    "        \n",
    "    return two_half_steps+delta/15"
   ]
  },
  {
   "cell_type": "code",
   "execution_count": 18,
   "id": "791287c8",
   "metadata": {},
   "outputs": [],
   "source": [
    "nsteps_new = int(200/3)\n",
    "x_new = np.linspace(-20,20,nsteps_new)\n",
    "y_adaptive = np.zeros(nsteps_new)\n",
    "err = np.zeros(nsteps_new)\n",
    "y_adaptive[0] = 1\n",
    "y_adaptive[1] = 0\n",
    "\n",
    "for n in range(nsteps_new-1):\n",
    "    h = x_new[n+1] - x_new[n]\n",
    "    y_adaptive[n+1] = rk4_stepd(fun,x_new[n],y_adaptive[n],h)"
   ]
  },
  {
   "cell_type": "code",
   "execution_count": 20,
   "id": "5c11c890",
   "metadata": {},
   "outputs": [
    {
     "name": "stdout",
     "output_type": "stream",
     "text": [
      "Variance = 7.391513374857224e-09\n"
     ]
    },
    {
     "data": {
      "text/plain": [
       "[<matplotlib.lines.Line2D at 0x7fa8a82a50d0>]"
      ]
     },
     "execution_count": 20,
     "metadata": {},
     "output_type": "execute_result"
    },
    {
     "data": {
      "image/png": "[encoded data removed]",
      "text/plain": [
       "<Figure size 432x288 with 1 Axes>"
      ]
     },
     "metadata": {
      "needs_background": "light"
     },
     "output_type": "display_data"
    }
   ],
   "source": [
    "c = 1/np.exp(np.arctan(-20))\n",
    "real_soln_new = c*np.exp(np.arctan(x_new))\n",
    "\n",
    "print(f'Variance = {np.std((real_soln_new-y_adaptive)**2)}')\n",
    "\n",
    "plt.title('Residuals for adaptive rk4')\n",
    "plt.plot(x_new,real_soln_new-y_adaptive)"
   ]
  },
  {
   "cell_type": "markdown",
   "id": "5117bd76",
   "metadata": {},
   "source": [
    "# Problem 2\n",
    "\n",
    "I adapted the method for `deriv` from this website but made the long return statement into a for loop to make it a bit easier to read/debug: https://scipython.com/book2/chapter-8-scipy/problems/p82/modelling-a-radioactive-decay-chain/. The half lives come from Jon's ODE powerpoint slide.\n",
    "\n",
    "Essentially, the amount of each substance is $growth\\ rate - decay\\ rate$, where the growth rate is given by the decay rate of the element before it in the decay chain. The decay rate is given by $\\frac{y}{t_{half}}$, where y is the amount of species left, and ${t_{half}}$ is the half life, where in my code, `k` is $\\frac{1}{t_{half}}$. The decay coefficient for Pb-206 is set to zero (inverse of `np.inf`) because it is stable, so it does not produce decay products and its quantity depends only on the decay of Po-210.\n",
    "\n",
    "This code calculates the derivative $\\frac{dx}{dt}$ of each species at each time step by using scipy's `integrate.solve_ivp`. Since this is a stiff set of equations (i.e., some species require very small steps because they have short half lives, but this will result in a very long running time for species with longer half lives, or vice versa, where it will just crash) we use the Radau method, which is optimized for stiff systems of equations.\n",
    "\n",
    "My y array is set up such that the array elements are:\\\n",
    "`y[0]` = U-238\\\n",
    "`y[1]` = Th-234\\\n",
    "`y[2]` = Pr-234\\\n",
    "`y[3]` = U-234\\\n",
    "`y[4]` = Th-230\\\n",
    "`y[5]` = Ra-226\\\n",
    "`y[6]` = Rn-222\\\n",
    "`y[7]` = Po-218\\\n",
    "`y[8]` = Pb-214\\\n",
    "`y[9]` = Bi-214\\\n",
    "`y[10]` = Po-214\\\n",
    "`y[11]` = Pb-210\\\n",
    "`y[12]` = Bi-210\\\n",
    "`y[13]` = Po-210\\\n",
    "`y[14]` = Pb-206"
   ]
  },
  {
   "cell_type": "code",
   "execution_count": 586,
   "id": "6766fb9d",
   "metadata": {},
   "outputs": [],
   "source": [
    "#initial conditions\n",
    "y0 = [1,0,0,0,0,0,0,0,0,0,0,0,0,0,0]\n",
    "\n",
    "#half lives\n",
    "t_half = np.array([(4.468e9)*(3.154e7),24.10*86400,6.7*3600,245500*(3.154e7),75380*(3.154e7),1600*(3.154e7),3.8235*86400,3.1*60,26.8*60,19.9*60,164.3/(1e6),22.3*(3.154e7),5.015*(3.154e7),138.376*86400,np.inf])\n",
    "k = 1/t_half #rate coefficients\n",
    "\n",
    "def deriv(t,y): #dx/dt for each species\n",
    "    dydt = np.zeros(len(y0))\n",
    "    \n",
    "    dydt[0] = -y[0]*k[0]\n",
    "    \n",
    "    for i in range(len(dydt)-1):\n",
    "        dydt[i+1] = y[i]*k[i] - y[i+1]*k[i+1]\n",
    "        \n",
    "    return dydt\n",
    "\n",
    "t = 1e18 \n",
    "\n",
    "ans_stiff=integrate.solve_ivp(deriv,(0,t),y0,method='Radau')"
   ]
  },
  {
   "cell_type": "markdown",
   "id": "bc95e0c4",
   "metadata": {},
   "source": [
    "### Plot the ratio of Pb206 to U238\n",
    "\n",
    "Analytically, this is what I expect, since we can approximate that U-238 decays directly into U-238, so we should see an exponential relationship between the two: as we have small amounts of U-238 decaying into Pb-206, we will have a rate of ~0. After a significant amount of time has passed, we will only have trace amounts of U-238 remaining, so the ratio will blow up."
   ]
  },
  {
   "cell_type": "code",
   "execution_count": 587,
   "id": "d7029939",
   "metadata": {},
   "outputs": [
    {
     "data": {
      "image/png": "[encoded data removed]",
      "text/plain": [
       "<Figure size 432x288 with 1 Axes>"
      ]
     },
     "metadata": {
      "needs_background": "light"
     },
     "output_type": "display_data"
    }
   ],
   "source": [
    "u238 = ans_stiff.y[0]\n",
    "pb206 = ans_stiff.y[-1]\n",
    "\n",
    "ratio = pb206/u238\n",
    "\n",
    "plt.plot(ans_stiff.t,ratio)\n",
    "plt.title('Ratio of Pb-206 to U-238')\n",
    "plt.xlabel('Time (s)')\n",
    "plt.ylabel('Pb-206/U-238')\n",
    "plt.show()"
   ]
  },
  {
   "cell_type": "markdown",
   "id": "bcd0a02c",
   "metadata": {},
   "source": [
    "### Ratio of Th-230 to U-234\n",
    "\n",
    "U-234 decays into Th-230, and they both have similar half lives. Initially, we will have larger amounts of U-234, since it is produced by Pr-234 with a half life on the scale of hours (i.e., << half life of U-234 and Th-230), but this will become stable fairly quickly due to the similar decay rates of each species (i.e., the amount of Th-230 decaying into U-234 $\\approx$ the amount of U-234 decaying into Ra-226)"
   ]
  },
  {
   "cell_type": "code",
   "execution_count": 607,
   "id": "440c3276",
   "metadata": {},
   "outputs": [
    {
     "name": "stderr",
     "output_type": "stream",
     "text": [
      "/var/folders/dg/7jl6bkpj645c5wgdkkh7h8zw0000gn/T/ipykernel_38698/1598546547.py:4: RuntimeWarning: invalid value encountered in true_divide\n",
      "  plt.plot(ans_stiff.t,th230/u234)\n"
     ]
    },
    {
     "data": {
      "image/png": "[encoded data removed]",
      "text/plain": [
       "<Figure size 432x288 with 1 Axes>"
      ]
     },
     "metadata": {
      "needs_background": "light"
     },
     "output_type": "display_data"
    }
   ],
   "source": [
    "u234 = ans_stiff.y[3]\n",
    "th230 = ans_stiff.y[4]\n",
    "\n",
    "plt.plot(ans_stiff.t,th230/u234)\n",
    "plt.xlim(0,1e14)\n",
    "plt.title('Ratio of Th-230 to U-234')\n",
    "plt.xlabel('Time (s)')\n",
    "plt.ylabel('Th-230/U-234')\n",
    "plt.show()"
   ]
  },
  {
   "cell_type": "markdown",
   "id": "25df91f9",
   "metadata": {},
   "source": [
    "# Problem 3\n",
    "\n",
    "### a) Reparameterize the paraboloid to get a linear equation\n",
    "\n",
    "The original equation for the paraboloid is $z-z_0 = a[(x-x_0)^2 + (y-y_0)^2]$.\n",
    "\n",
    "We can expand and rearrange terms to get $z = a(x^2+y^2) - 2ax_0x -2ay_0y + a(x_0^2+y_0^2+z_0)$\n",
    "\n",
    "Now our parameters are $a(x^2+y^2$), $-2ax_0x$, $-2ay_0y$, and $a(x_0^2+y_0^2+z_0)$.\n",
    "\n",
    "So our model parameters are $a$, $-2ax_0$, $-2ay_0$, and $a(x_0^2+y_0^2+z_0)$, and our A matrix looks like:\\\n",
    "`A[:,0]` = $x^2+y^2$\\\n",
    "`A[:,1]` = $x$\\\n",
    "`A[:,2]` = $y$\\\n",
    "`A[:,3]` = 1"
   ]
  },
  {
   "cell_type": "markdown",
   "id": "cee7e43d",
   "metadata": {},
   "source": [
    "### b) Find the best fit parameters for the data\n",
    "\n",
    "Linear least squares: $A^TN^{-1}Am = A^TN^{-1}d$\n",
    "\n",
    "Cancel out $N^{-1}$ terms: $A^TAm = A^Td$\n",
    "\n",
    "$\\implies m = A^Td(A^TA)^{-1} = $ RHS/LHS \n",
    "\n",
    "We know from above that:\\\n",
    "`m[0]` = $a$\\\n",
    "`m[1]` = $-2ax_0$\\\n",
    "`m[2]` = $-2ay_0$\\\n",
    "`m[3]` = $a(x_0^2 + y_0^2 + z_0)$\n",
    "\n",
    "So we can solve these equations to get the original parameters we wanted:\\\n",
    "$a = m[0]$\\\n",
    "$x_0 = \\frac{m[1]}{-2m[0]}$\\\n",
    "$y_0 = \\frac{m[2]}{-2m[0]}$\\\n",
    "$z_0 = \\frac{m[3]}{m[0]} - [\\frac{m[1]}{-2m[0]}]^2 - [\\frac{m[2]}{-2m[0]}]^2$"
   ]
  },
  {
   "cell_type": "code",
   "execution_count": 221,
   "id": "f42197fe",
   "metadata": {},
   "outputs": [],
   "source": [
    "x,y,z = np.genfromtxt('dish_zenith.txt',unpack=True)\n",
    "\n",
    "A=np.empty([len(x),4])\n",
    "\n",
    "A[:,0] = x**2 + y**2\n",
    "A[:,1] = x\n",
    "A[:,2] = y\n",
    "A[:,3] = np.ones(len(x))\n",
    "\n",
    "lhs = A.T@A\n",
    "rhs = A.T@z\n",
    "\n",
    "m = np.linalg.inv(lhs)@rhs\n",
    "\n",
    "a = m[0]\n",
    "x0 = m[1]/(-2*a)\n",
    "y0 = m[2]/(-2*a)\n",
    "z0 = m[3]/a - x0**2 -y0**2"
   ]
  },
  {
   "cell_type": "code",
   "execution_count": 199,
   "id": "b1c18f35",
   "metadata": {},
   "outputs": [
    {
     "name": "stdout",
     "output_type": "stream",
     "text": [
      "Parameters are: a = 0.0001667044547740144, x0 = -1.3604886221977734, y0 = 58.22147608157947, z0 = -9075205.651148656\n"
     ]
    }
   ],
   "source": [
    "print(f'Parameters are: a = {a}, x0 = {x0}, y0 = {y0}, z0 = {z0}')"
   ]
  },
  {
   "cell_type": "markdown",
   "id": "7e22b3ea",
   "metadata": {},
   "source": [
    "### c) Predict noise and error bars\n",
    "\n",
    "Residuals of this fit (z-pred) are the model for our noise, and we can use the standard deviation of the resiuals as our noise estimate. \n",
    "\n",
    "The errors in the parameters are calculated by taking the square root of the diagonal of the covariance matrix. For us, the covariance matrix is just the inverse of the LHS. This code was adapted from Jon's `fit_tempdata_class.py`"
   ]
  },
  {
   "cell_type": "code",
   "execution_count": 508,
   "id": "061d8053",
   "metadata": {},
   "outputs": [
    {
     "name": "stdout",
     "output_type": "stream",
     "text": [
      "Noise estimate is 3.768338648784731 mm\n",
      "Uncertainty in a is: 1.7121337434320508e-08\n"
     ]
    }
   ],
   "source": [
    "pred = A@m\n",
    "\n",
    "noise = np.std(z-pred)\n",
    "\n",
    "print(f'Noise estimate is {noise} mm')\n",
    "\n",
    "N=np.std(z-pred)**2\n",
    "\n",
    "param_err = np.sqrt(np.diag(np.linalg.inv(lhs)))\n",
    "\n",
    "print(f'Uncertainty in a is: {param_err[0]}')"
   ]
  },
  {
   "cell_type": "markdown",
   "id": "232895ad",
   "metadata": {},
   "source": [
    "### Focal length calculation\n",
    "\n",
    "Focal length is based off of a paraboloid centered at (0,0). If we move our paraboloid to (0,0,0), we can ignore all the constants except $a$, giving us $z = a(x^2+y^2)$. For a 3D paraboloid, the focal point is located at $z = \\frac{x^2+y^2}{4f}$ (substitute $z = y$ and $x^2 + y^2 = x^2$ to add the extra dimension).\n",
    "\n",
    "If we equate these two expressions, we can cancel the $x$ and $y$ terms to get $f = \\frac{1}{4a}$, so our focal point is only dependent on $a$.\n",
    "\n",
    "Since there is uncertainty in $a$, we will do a first order Taylor expansion to consider this:\n",
    "$\\Delta f \\approx \\frac{1}{4a^2}\\Delta a$, where $\\Delta a$ is the uncertainty on $a$ we calculated above (`model_err[0]`).\n",
    "\n",
    "Since x,y,z are in mm, I divide by 1000 to get units of m to compare with the expected focal length of 1.5m. My answer is relatively consistent, especially when taking into account machine precision."
   ]
  },
  {
   "cell_type": "code",
   "execution_count": 506,
   "id": "88044216",
   "metadata": {},
   "outputs": [
    {
     "name": "stdout",
     "output_type": "stream",
     "text": [
      "Focal length is 1.4996599841252087 +/- 0.0001540221865082264 m\n"
     ]
    }
   ],
   "source": [
    "f = 1/(4*a)/1000.\n",
    "err_f = ((1/(4*a**2))*param_err[0])/1000.\n",
    "\n",
    "print(f'Focal length is {f} +/- {err_f} m')"
   ]
  },
  {
   "cell_type": "code",
   "execution_count": null,
   "id": "25253758",
   "metadata": {},
   "outputs": [],
   "source": []
  }
 ],
 "metadata": {
  "kernelspec": {
   "display_name": "Python 3 (ipykernel)",
   "language": "python",
   "name": "python3"
  },
  "language_info": {
   "codemirror_mode": {
    "name": "ipython",
    "version": 3
   },
   "file_extension": ".py",
   "mimetype": "text/x-python",
   "name": "python",
   "nbconvert_exporter": "python",
   "pygments_lexer": "ipython3",
   "version": "3.9.7"
  }
 },
 "nbformat": 4,
 "nbformat_minor": 5
}
