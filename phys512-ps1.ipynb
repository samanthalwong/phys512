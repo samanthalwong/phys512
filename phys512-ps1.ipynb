{
 "cells": [
  {
   "cell_type": "code",
   "execution_count": 1,
   "id": "86adbd5a",
   "metadata": {},
   "outputs": [],
   "source": [
    "#import statements\n",
    "import numpy as np\n",
    "import matplotlib.pyplot as plt\n",
    "from scipy import interpolate"
   ]
  },
  {
   "cell_type": "markdown",
   "id": "8293cbad",
   "metadata": {},
   "source": [
    "# Problem 1"
   ]
  },
  {
   "cell_type": "markdown",
   "id": "d733dabb",
   "metadata": {},
   "source": [
    "### a) what should the first derivative in dx be?\n",
    "\n",
    "After following the approach for the centred (2 point) derivative seen in lecture and Numerical Recipes Ch. 5, the extra two points allow us to get the following form for the derivative estimate:\n",
    "\n",
    "$\\frac{1}{12\\delta}[f(x-2\\delta)-8f(x-\\delta)+8f(x+\\delta)-f(x+2\\delta)]$ \n",
    "\n",
    "The full calculation can be found in the appendix"
   ]
  },
  {
   "cell_type": "code",
   "execution_count": 2,
   "id": "2154df6b",
   "metadata": {},
   "outputs": [],
   "source": [
    "def deriv(f,x,delta):\n",
    "    return (1/(12*delta))*(f(x-2*delta)-8*f(x-delta)+8*f(x+delta)-f(x+2*delta))"
   ]
  },
  {
   "cell_type": "markdown",
   "id": "b7eb5f1c",
   "metadata": {},
   "source": [
    "### b) what is the optimal $\\delta$ ?\n",
    "\n",
    "I calculated the optimal derivative based off of the technique shown for the function evaluated at 2 points in Jon's lecture 1 slides. \n",
    "\n",
    "This gives $\\delta \\approx [\\frac{f\\varepsilon_f}{f^{(5)}}]^\\frac{1}{5}$ (see appendix for full calculation). Where $\\varepsilon_f$ is the machine precision roundoff error\n",
    "\n",
    "The $x_c = \\frac{f}{f^{(5)}}$ term can be approximated by $x_c = x$ if $x$ is not near zero. I'll pick an $x$ well above 0, just to be careful.\n",
    "\n",
    "So our approximate $\\delta$ will just be $~ (x\\varepsilon_f)^\\frac{1}{5}$\n",
    "\n",
    "For single point precision, $\\varepsilon_f = 10^{-7} $\n",
    "\n",
    "For double point precision $\\varepsilon_f = 10^{-16}$ - this is what I use here"
   ]
  },
  {
   "cell_type": "code",
   "execution_count": 245,
   "id": "4de12963",
   "metadata": {},
   "outputs": [
    {
     "name": "stdout",
     "output_type": "stream",
     "text": [
      "Optimal δ for single point precision: 0.03981071705534972 \n",
      "Optical δ for double point precision: 0.000630957344480193\n"
     ]
    }
   ],
   "source": [
    "single_del = (1e-7)**(1/5)\n",
    "double_del = (1e-16)**(1/5)\n",
    "\n",
    "print(f'Optimal δ for single point precision: {single_del} \\nOptical δ for double point precision: {double_del}')"
   ]
  },
  {
   "cell_type": "markdown",
   "id": "aa88aba4",
   "metadata": {},
   "source": [
    "#### Calculating fractional error:\n",
    "\n",
    "See appendix for full calculation. \n",
    "\n",
    "Basically, we want to minimize the sum of the leading term in the expansion error with the roundoff error from machine precision.\n",
    "\n",
    "We know that $\\delta \\approx [\\frac{f\\varepsilon_f}{f^{(5)}}]^\\frac{1}{5}$\n",
    "\n",
    "We can plug this $\\delta$ in to our expression for fractional uncertainty: $\\frac{e_r + e_t}{|f'|}$, and we can get rid of f and its higher derivatives by assuming that they all share the same characteristic length. This gives us a fractional uncertainty of $\\varepsilon_f^\\frac{4}{5}$, where $\\varepsilon_f$ is approximately the machine precision."
   ]
  },
  {
   "cell_type": "markdown",
   "id": "3d2cc573",
   "metadata": {},
   "source": [
    "#### Evaluate $f(x) = e^x$"
   ]
  },
  {
   "cell_type": "code",
   "execution_count": 246,
   "id": "20f5ef90",
   "metadata": {},
   "outputs": [
    {
     "name": "stdout",
     "output_type": "stream",
     "text": [
      "Derivative is: 148.41340528747506, Error is: 1.584893192461111e-13\n"
     ]
    }
   ],
   "source": [
    "x = 5\n",
    "fun = np.exp\n",
    "\n",
    "eps = 1e-16\n",
    "delta = x*eps**(1/5)\n",
    "\n",
    "d = deriv(fun,x,delta)\n",
    "err = eps**(4/5)\n",
    "\n",
    "print(f'Derivative is: {d}, Error is: {err}')"
   ]
  },
  {
   "cell_type": "markdown",
   "id": "1aa16224",
   "metadata": {},
   "source": [
    "#### Evaluate $f(x) = e^{0.01x}$"
   ]
  },
  {
   "cell_type": "code",
   "execution_count": 247,
   "id": "cd5979fd",
   "metadata": {},
   "outputs": [
    {
     "name": "stdout",
     "output_type": "stream",
     "text": [
      "Derivative is: 0.010512710965507434, Error is: 1.584893192461111e-13\n"
     ]
    }
   ],
   "source": [
    "def exp_001(x):\n",
    "    return np.exp(0.01*x)\n",
    "\n",
    "x_new = 5\n",
    "fun_new = exp_001\n",
    "\n",
    "eps_new = 1e-16\n",
    "delta_new = x_new*eps**(1/5)\n",
    "\n",
    "d_new = deriv(fun_new,x,delta)\n",
    "\n",
    "print(f'Derivative is: {d_new}, Error is: {err}')"
   ]
  },
  {
   "cell_type": "markdown",
   "id": "7a89833d",
   "metadata": {},
   "source": [
    "Since we know the actual values for the derivatives of these functions, let's compare them to the real solutions. These are pretty accurate!"
   ]
  },
  {
   "cell_type": "code",
   "execution_count": 248,
   "id": "94ae8300",
   "metadata": {},
   "outputs": [
    {
     "name": "stdout",
     "output_type": "stream",
     "text": [
      "Difference between true and numerical derivative for e^x = -0.00024618489845806835\n",
      "Difference between true and numerical derivative for e^0.01x = -1.7471926683221284e-12\n"
     ]
    }
   ],
   "source": [
    "true_ex = np.exp(x)\n",
    "true_e_001 = 0.01*np.exp(0.01*x)\n",
    "\n",
    "print(f'Difference between true and numerical derivative for e^x = {true_ex - d}')\n",
    "print(f'Difference between true and numerical derivative for e^0.01x = {true_e_001 - d_new}')"
   ]
  },
  {
   "cell_type": "markdown",
   "id": "d14e3715",
   "metadata": {},
   "source": [
    "# Problem 2\n",
    "\n",
    "Here I use an iterative approach to decrease dx until the derivative is stable, i.e., no changes between iterations by a factor of ~1/2 machine precision.\n",
    "\n",
    "If it doesn't converge, the function will stop at 500 iterations and print an exiting message.\n",
    "\n",
    "I wanted to implement something along the lines of:\n",
    "   * take initial dx\n",
    "   * calculate f'\n",
    "   * calculate f'''\n",
    "   * estimate new dx using above method of $dx \\approx (x_c\\varepsilon)^{1/2}$ where $x_c \\approx x, x\\neq0$ & repeat until $dx - dx_{previous iteration}$ converges\n",
    "   \n",
    "I couldn't figure out how to calculate f''', since if I use a Taylor expansion, then my truncation error on f''' >> truncation error on f, so I felt like this was not the right approach and instead just decided to increment dx by 1/2 every time until the derivative itself converged.\n",
    "\n",
    "To calculate my error, I still use the fractional error for dx given by _Numerical Methods_ for a 4 point derivative, i.e., $\\frac{e_r + e_t}{|f'|} \\approx \\sqrt{e_f}$. This calculation is very similar for the one done for question 1."
   ]
  },
  {
   "cell_type": "code",
   "execution_count": 128,
   "id": "2c0656ab",
   "metadata": {},
   "outputs": [
    {
     "name": "stdout",
     "output_type": "stream",
     "text": [
      "Derivative, dx, Error:\n",
      "(0.5403023064136505, 2.9802322387695312e-08, 0.301168678394246)\n"
     ]
    }
   ],
   "source": [
    "def deriv(fun,x,dx): \n",
    "    return (fun(x+dx) - fun(x-dx))/(2*dx)\n",
    "\n",
    "def ndiff(fun,x,full=False):\n",
    "        \n",
    "    #set initial dx = 1\n",
    "    dx = 1\n",
    "    deriv_old = 1000 # large number so this doesn't crash at the beginning\n",
    "    \n",
    "    diff = 10 # arbitrary large starting value\n",
    "    \n",
    "    max_iter = 500\n",
    "    i = 0\n",
    "    \n",
    "    while ((diff > 5e-15) and (i < max_iter)) : # ~ 10x machine precision\n",
    "        if i > max_iter - 2:\n",
    "            print('Derivative has not converged. Exiting...')\n",
    "        i = i+1\n",
    "        f_prime = deriv(fun,x,dx)\n",
    "                \n",
    "        diff = np.abs(deriv_old - f_prime)\n",
    "        deriv_old = f_prime\n",
    "        dx = dx/2\n",
    "    \n",
    "    if full == True:\n",
    "        return f_prime,dx,np.sin(1)-f_prime\n",
    "    \n",
    "    else:\n",
    "        return f_prime"
   ]
  },
  {
   "cell_type": "markdown",
   "id": "caf6b2a5",
   "metadata": {},
   "source": [
    "#### Running the derivative function with both full = True and full = False"
   ]
  },
  {
   "cell_type": "code",
   "execution_count": 249,
   "id": "0667631d",
   "metadata": {},
   "outputs": [
    {
     "name": "stdout",
     "output_type": "stream",
     "text": [
      "Derivative, dx, Error:\n",
      "(0.5403023064136505, 2.9802322387695312e-08, 0.301168678394246)\n"
     ]
    }
   ],
   "source": [
    "fun = np.sin\n",
    "x = 1\n",
    "full = True\n",
    "derivative = ndiff(fun,x,full)\n",
    "\n",
    "if full:\n",
    "    print('Derivative, dx, Error:')\n",
    "else:\n",
    "    print('Derivative:')\n",
    "\n",
    "print(derivative)"
   ]
  },
  {
   "cell_type": "code",
   "execution_count": 250,
   "id": "7a9bcf9e",
   "metadata": {},
   "outputs": [
    {
     "name": "stdout",
     "output_type": "stream",
     "text": [
      "Derivative:\n",
      "0.5403023064136505\n"
     ]
    }
   ],
   "source": [
    "fun = np.sin\n",
    "x = 1\n",
    "full = False\n",
    "derivative = ndiff(fun,x,full)\n",
    "\n",
    "if full:\n",
    "    print('Derivative, dx, Error:')\n",
    "else:\n",
    "    print('Derivative:')\n",
    "\n",
    "print(derivative)"
   ]
  },
  {
   "cell_type": "markdown",
   "id": "34fdfea7",
   "metadata": {},
   "source": [
    "# Problem 3\n",
    "\n",
    "I used scipy's interp1d to do a cubic spline interpolation of the data. I chose interp1d because it returns a function that can be used to evaluate temperature at any voltage value easily.\n",
    "\n",
    "The function only works on voltage values within the range provided by the data, i.e., it does not extrapolate and will return an error if V is outside of this range.\n",
    "\n",
    "To calculate error, I use boostrap resampling to calculate the interpolation at every second data point and then take the absolute value of the distance between these interpolated points and the data points corresponding to the same voltage. The mean of these values corresponds to the average error, which can be seen below to be $O(10^{-15})$, which is about an order of magnitude greater than machine precision. This means the error is pretty small!\n",
    "\n",
    "Below are the outputs on the function run with type(V) = float, type(V) = np.array(), and V > max(voltage)"
   ]
  },
  {
   "cell_type": "code",
   "execution_count": 259,
   "id": "55a6eb84",
   "metadata": {},
   "outputs": [],
   "source": [
    "def lakeshore(V,data):\n",
    "    \n",
    "    #unpack data\n",
    "    temp = data[0]\n",
    "    voltage = data[1]\n",
    "    \n",
    "    #plot data\n",
    "    plt.plot(temp,voltage,'ko')\n",
    "    plt.xlabel('Temperature [K]')\n",
    "    plt.ylabel('Voltage [V]')\n",
    "        \n",
    "    f = interpolate.interp1d(voltage,temp,kind='cubic')\n",
    "    \n",
    "    #plot interpolation\n",
    "    plt.plot(f(voltage),voltage,'r--')\n",
    "    plt.legend(['Data','Cubic Spline Interpolation'])\n",
    "    plt.show()\n",
    "    \n",
    "    # interpolate again w/ half the points to get error\n",
    "    indices = np.arange(0,voltage.size,2)\n",
    "    voltage_half = voltage[indices]\n",
    "    temp_half = temp[indices]\n",
    "    \n",
    "    f_half = interpolate.interp1d(voltage_half,temp_half,kind='cubic')\n",
    "    \n",
    "    dif = f_half(voltage_half) - temp_half #find difference between interpolated and real values\n",
    "    \n",
    "    avg_err = np.mean(np.abs(dif)) #the mean of the distance b/w the interpolated points and their true values gives us the error\n",
    "    \n",
    "    #arrays for storing output\n",
    "    interp_temp = np.array(())    \n",
    "\n",
    "    if (isinstance(V,int) or isinstance(V,float)):\n",
    "        if (V > max(voltage) or V < min(voltage)):\n",
    "            print(f'Error: Invalid voltage value. Please enter a value between {min(voltage)} and {max(voltage)}')\n",
    "            return ['','']\n",
    "    \n",
    "        interp_temp = np.append(interp_temp, f(V))\n",
    "    \n",
    "    else:\n",
    "        for v in V:\n",
    "            if (v > max(voltage) or v < min(voltage)):\n",
    "                print(f'Error: Invalid voltage value. Please enter a value between {min(voltage)} and {max(voltage)}')\n",
    "                return ['','']\n",
    "  \n",
    "            interp_temp = np.append(interp_temp,f(v))            \n",
    "    \n",
    "    return [interp_temp, avg_err]"
   ]
  },
  {
   "cell_type": "markdown",
   "id": "2a92add7",
   "metadata": {},
   "source": [
    "#### Interpolate for V as a number"
   ]
  },
  {
   "cell_type": "code",
   "execution_count": 260,
   "id": "fad7e11f",
   "metadata": {
    "scrolled": false
   },
   "outputs": [
    {
     "data": {
      "image/png": "[encoded data removed]",
      "text/plain": [
       "<Figure size 432x288 with 1 Axes>"
      ]
     },
     "metadata": {
      "needs_background": "light"
     },
     "output_type": "display_data"
    },
    {
     "name": "stdout",
     "output_type": "stream",
     "text": [
      "Temperature for V: [13.70254428], Error: 3.5681334430314055e-15\n"
     ]
    }
   ],
   "source": [
    "dat = np.loadtxt('lakeshore.txt',unpack=True)\n",
    "volt = 1.3\n",
    "volts = np.linspace(0.5,0.7,10)\n",
    "temp, err = lakeshore(volt,dat)\n",
    "print(f'Temperature for V: {temp}, Error: {err}')"
   ]
  },
  {
   "cell_type": "markdown",
   "id": "b1251901",
   "metadata": {},
   "source": [
    "#### Interpolate for V as an array"
   ]
  },
  {
   "cell_type": "code",
   "execution_count": 261,
   "id": "0cc8f8d5",
   "metadata": {},
   "outputs": [
    {
     "data": {
      "image/png": "[encoded data removed]",
      "text/plain": [
       "<Figure size 432x288 with 1 Axes>"
      ]
     },
     "metadata": {
      "needs_background": "light"
     },
     "output_type": "display_data"
    },
    {
     "name": "stdout",
     "output_type": "stream",
     "text": [
      "Temperature for V: [325.75028677 316.18032323 306.58558903 296.94064023 287.30114546\n",
      " 277.46403405 267.84850093 257.94219337 248.08018907 238.12931659]\n",
      "Error: 3.5681334430314055e-15\n"
     ]
    }
   ],
   "source": [
    "volts = np.linspace(0.5,0.7,10)\n",
    "temp, err = lakeshore(volts,dat)\n",
    "print(f'Temperature for V: {temp}\\nError: {err}')"
   ]
  },
  {
   "cell_type": "markdown",
   "id": "d224ccf5",
   "metadata": {},
   "source": [
    "# Problem 4\n",
    "\n",
    "The cell below defines the $f = cos(x)$ or Lorentzian, $f = \\frac{1}{1+x^2}$ functions that we're going to try to fit to.\n",
    "\n",
    "I'm using 10 points because that is what is needed to do the rational polynomial interpolation, i.e., n+m where n = 4, m = 5, so for fairness that will be the number of points for all interpolations.\n",
    "\n",
    "For each approach, since I know the true values of both the cosine function and the Lorentzian, I calculate the accuracy by taking the error as the difference between the interpolated values and the true values.\n",
    "\n",
    "**For clarity, I've gone over each interpolation in detail for $f = cos(x)$ and then moved on to the Lorentzian function below**"
   ]
  },
  {
   "cell_type": "markdown",
   "id": "7de7bdfa",
   "metadata": {},
   "source": [
    "### Cosine Function"
   ]
  },
  {
   "cell_type": "code",
   "execution_count": 203,
   "id": "a8b00db4",
   "metadata": {},
   "outputs": [
    {
     "data": {
      "text/plain": [
       "[<matplotlib.lines.Line2D at 0x7fbc7b1cf520>]"
      ]
     },
     "execution_count": 203,
     "metadata": {},
     "output_type": "execute_result"
    },
    {
     "data": {
      "image/png": "[encoded data removed]",
      "text/plain": [
       "<Figure size 432x288 with 1 Axes>"
      ]
     },
     "metadata": {
      "needs_background": "light"
     },
     "output_type": "display_data"
    }
   ],
   "source": [
    "fun = np.cos\n",
    "\n",
    "x = np.linspace(-np.pi/2,np.pi/2,10)\n",
    "y = fun(x)\n",
    "plt.plot(x,y,'ko')"
   ]
  },
  {
   "cell_type": "markdown",
   "id": "b18f230a",
   "metadata": {},
   "source": [
    "#### Polynomial Interpolation\n",
    "\n",
    "Fit with polynomial using Scipy's interpolate.BarycentricInterpolator. This function constructs a polynomial passing through the given set of x points and doesn't compute the coefficients of the polynomial so that it remains numerically stable. That's okay here because we don't need it to compute the y value for any x, but rather we want to see how well it fits the entire function.\n",
    "\n",
    "(This function is good because it allows rapid updating of y_initial points, since the preprocessing does not depend on them. This is not super important here but this is why the function is particularly useful over other scipy interpolate methods)"
   ]
  },
  {
   "cell_type": "code",
   "execution_count": 204,
   "id": "4e19bad8",
   "metadata": {},
   "outputs": [
    {
     "name": "stdout",
     "output_type": "stream",
     "text": [
      "Error for polynomial fit: 8.890677473886336e-08\n"
     ]
    },
    {
     "data": {
      "image/png": "[encoded data removed]",
      "text/plain": [
       "<Figure size 432x288 with 1 Axes>"
      ]
     },
     "metadata": {
      "needs_background": "light"
     },
     "output_type": "display_data"
    }
   ],
   "source": [
    "x_fine = np.linspace(-np.pi/2,np.pi/2,1001)\n",
    "\n",
    "#do a polynomial interpolation and evaluate on fine x to get fine y\n",
    "interp = interpolate.BarycentricInterpolator(x, y, axis=0)\n",
    "y_poly = interp(x_fine)\n",
    "\n",
    "y_true = np.cos(x_fine) #true values b/c we know the true values of the function\n",
    "\n",
    "plt.plot(x,y,'ko')\n",
    "plt.plot(x_fine,y_poly,'r--')\n",
    "\n",
    "print(f'Error for polynomial fit: {np.std(y_true - y_poly)}')"
   ]
  },
  {
   "cell_type": "markdown",
   "id": "6de3f93f",
   "metadata": {},
   "source": [
    "#### Cubic spline interpolation\n",
    "\n",
    "Fit with cubic spline using scipy (adapted from Jon's cubic spline code). This returns a spline, interpolated from the data points, meaning that derivatives up to third order are continuous."
   ]
  },
  {
   "cell_type": "code",
   "execution_count": 205,
   "id": "48f4bc33",
   "metadata": {},
   "outputs": [
    {
     "name": "stdout",
     "output_type": "stream",
     "text": [
      "Error for spline fit: 5.4764056344440255e-05\n"
     ]
    },
    {
     "data": {
      "image/png": "[encoded data removed]",
      "text/plain": [
       "<Figure size 432x288 with 1 Axes>"
      ]
     },
     "metadata": {
      "needs_background": "light"
     },
     "output_type": "display_data"
    }
   ],
   "source": [
    "x_fine = np.linspace(-np.pi/2,np.pi/2,1001)\n",
    "y_fine = np.cos(x_fine)\n",
    "\n",
    "#spline interpolation\n",
    "spl=interpolate.splrep(x,y) #generate the spline using scipy\n",
    "plt.plot(x,y,'ko')\n",
    "y_spl=interpolate.splev(x_fine,spl) #evaluate the spline on fine x\n",
    "\n",
    "plt.plot(x_fine,y_spl,'r--')\n",
    "plt.legend(['actual values','interpolated values'])\n",
    "print(f'Error for spline fit: {np.std(y_fine - y_spl)}')\n",
    "plt.show()"
   ]
  },
  {
   "cell_type": "markdown",
   "id": "6e74fd1a",
   "metadata": {},
   "source": [
    "#### Rational function interpolation\n",
    "\n",
    "Adapted from Jon's ratfit_class.py code. A rational interpolation is a ratio of 2 polynomials of degrees n (numerator) and m (denominator). This can give us an exact representation of a polynomial, and is useful for functions with poles. \n",
    "\n",
    "We select n and m such that correspond to the number of points we want to fit, in a simple case.\n",
    "\n",
    "Since a Lorentzian _is_ a rational function, we should get an error of zero $\\implies$ our expected error would just be machine precision $\\varepsilon_f \\approx 10^{-16}$ for a double precision float."
   ]
  },
  {
   "cell_type": "code",
   "execution_count": 207,
   "id": "46200216",
   "metadata": {},
   "outputs": [
    {
     "data": {
      "image/png": "[encoded data removed]",
      "text/plain": [
       "<Figure size 432x288 with 1 Axes>"
      ]
     },
     "metadata": {
      "needs_background": "light"
     },
     "output_type": "display_data"
    },
    {
     "name": "stdout",
     "output_type": "stream",
     "text": [
      "rational function error:  1.219182445837153e-07\n"
     ]
    }
   ],
   "source": [
    "n=4 #numerator order\n",
    "m=5 #denominator order\n",
    "\n",
    "x=np.linspace(-np.pi/2,np.pi/2,n+m+1)\n",
    "y=fun(x)\n",
    "\n",
    "pcols=[x**k for k in range(n+1)]\n",
    "pmat=np.vstack(pcols)\n",
    "\n",
    "qcols=[-x**k*y for k in range(1,m+1)]\n",
    "qmat=np.vstack(qcols)\n",
    "mat=np.hstack([pmat.T,qmat.T])\n",
    "coeffs=np.linalg.inv(mat)@y\n",
    "\n",
    "#now that we have coefficients, we can see how well we did\n",
    "xfine=np.linspace(-np.pi/2,np.pi/2,1001)\n",
    "\n",
    "p=0\n",
    "for i in range(n+1):\n",
    "    p=p+coeffs[i]*xfine**i\n",
    "qq=1\n",
    "for i in range(m):\n",
    "    qq=qq+coeffs[n+1+i]*xfine**(i+1)\n",
    "\n",
    "y_pred=p/qq\n",
    "y_true=fun(xfine)\n",
    "plt.plot(x,y,'ko')\n",
    "plt.plot(xfine,y_pred,'r--')\n",
    "plt.legend(['actual values','interpolated values'])\n",
    "#plt.plot(xfine,y_pred-y_true)\n",
    "plt.show()\n",
    "\n",
    "print('rational function error: ',np.std(y_pred-y_true))"
   ]
  },
  {
   "cell_type": "markdown",
   "id": "c85cc9aa",
   "metadata": {},
   "source": [
    "### Lorentzian Function"
   ]
  },
  {
   "cell_type": "code",
   "execution_count": 196,
   "id": "fbeb2293",
   "metadata": {},
   "outputs": [
    {
     "data": {
      "text/plain": [
       "[<matplotlib.lines.Line2D at 0x7fbc789ccd60>]"
      ]
     },
     "execution_count": 196,
     "metadata": {},
     "output_type": "execute_result"
    },
    {
     "data": {
      "image/png": "[encoded data removed]",
      "text/plain": [
       "<Figure size 432x288 with 1 Axes>"
      ]
     },
     "metadata": {
      "needs_background": "light"
     },
     "output_type": "display_data"
    }
   ],
   "source": [
    "def lorentzian(x):\n",
    "    return 1/(1+x**2)\n",
    "\n",
    "fun = lorentzian\n",
    "\n",
    "x = np.linspace(-1,1,10)\n",
    "y = fun(x)\n",
    "plt.plot(x,y,'ko')"
   ]
  },
  {
   "cell_type": "markdown",
   "id": "43cfb891",
   "metadata": {},
   "source": [
    "#### Polynomial interpolation"
   ]
  },
  {
   "cell_type": "code",
   "execution_count": 197,
   "id": "7bd85cb3",
   "metadata": {},
   "outputs": [
    {
     "name": "stdout",
     "output_type": "stream",
     "text": [
      "Error for polynomial fit: 0.00043320472666995\n"
     ]
    },
    {
     "data": {
      "image/png": "[encoded data removed]",
      "text/plain": [
       "<Figure size 432x288 with 1 Axes>"
      ]
     },
     "metadata": {
      "needs_background": "light"
     },
     "output_type": "display_data"
    }
   ],
   "source": [
    "x_fine = np.linspace(-1,1,1001)\n",
    "\n",
    "#do a polynomial interpolation and evaluate on fine x to get fine y\n",
    "interp = interpolate.BarycentricInterpolator(x, y, axis=0)\n",
    "y_poly = interp(x_fine)\n",
    "\n",
    "y_true = lorentzian(x_fine) #true values b/c we know the true values of the function\n",
    "\n",
    "plt.plot(x,y,'ko')\n",
    "plt.plot(x_fine,y_poly,'r--')\n",
    "\n",
    "print(f'Error for polynomial fit: {np.std(y_true - y_poly)}')"
   ]
  },
  {
   "cell_type": "markdown",
   "id": "774dc90c",
   "metadata": {},
   "source": [
    "#### Cubic spline interpolation"
   ]
  },
  {
   "cell_type": "code",
   "execution_count": 198,
   "id": "3975c5bb",
   "metadata": {},
   "outputs": [
    {
     "name": "stdout",
     "output_type": "stream",
     "text": [
      "Error for spline fit: 0.00018162374040159938\n"
     ]
    },
    {
     "data": {
      "image/png": "[encoded data removed]",
      "text/plain": [
       "<Figure size 432x288 with 1 Axes>"
      ]
     },
     "metadata": {
      "needs_background": "light"
     },
     "output_type": "display_data"
    }
   ],
   "source": [
    "x_fine = np.linspace(-1,1,1001)\n",
    "y_fine = lorentzian(x_fine)\n",
    "\n",
    "#spline interpolation\n",
    "spl=interpolate.splrep(x,y) #generate the spline using scipy\n",
    "plt.plot(x,y,'ko')\n",
    "y_spl=interpolate.splev(x_fine,spl) #evaluate the spline on fine x\n",
    "\n",
    "plt.plot(x_fine,y_spl,'r--')\n",
    "plt.legend(['actual values','interpolated values'])\n",
    "print(f'Error for spline fit: {np.std(y_fine - y_spl)}')\n",
    "plt.show()"
   ]
  },
  {
   "cell_type": "code",
   "execution_count": 200,
   "id": "e145fd23",
   "metadata": {},
   "outputs": [
    {
     "data": {
      "image/png": "[encoded data removed]",
      "text/plain": [
       "<Figure size 432x288 with 1 Axes>"
      ]
     },
     "metadata": {
      "needs_background": "light"
     },
     "output_type": "display_data"
    },
    {
     "name": "stdout",
     "output_type": "stream",
     "text": [
      "ratfun err is  0.5768673329288364\n"
     ]
    }
   ],
   "source": [
    "n=4 #numerator order\n",
    "m=5 #denominator order\n",
    "\n",
    "x=np.linspace(-np.pi/2,np.pi/2,n+m+1)\n",
    "y=fun(x)\n",
    "\n",
    "pcols=[x**k for k in range(n+1)]\n",
    "pmat=np.vstack(pcols)\n",
    "\n",
    "qcols=[-x**k*y for k in range(1,m+1)]\n",
    "qmat=np.vstack(qcols)\n",
    "mat=np.hstack([pmat.T,qmat.T])\n",
    "coeffs=np.linalg.inv(mat)@y\n",
    "\n",
    "#now that we have coefficients, we can see how well we did\n",
    "xfine=np.linspace(-1,1,1001)\n",
    "\n",
    "p=0\n",
    "for i in range(n+1):\n",
    "    p=p+coeffs[i]*xfine**i\n",
    "qq=1\n",
    "for i in range(m):\n",
    "    qq=qq+coeffs[n+1+i]*xfine**(i+1)\n",
    "\n",
    "y_pred=p/qq\n",
    "y_true=fun(xfine)\n",
    "plt.plot(x,y,'ko')\n",
    "plt.plot(xfine,y_pred,'r--')\n",
    "plt.legend(['actual values','interpolated values'])\n",
    "#plt.plot(xfine,y_pred-y_true)\n",
    "plt.show()\n",
    "\n",
    "print('ratfun err is ',np.std(y_pred-y_true))"
   ]
  },
  {
   "cell_type": "markdown",
   "id": "9ed4e940",
   "metadata": {},
   "source": [
    "We can see in the plot above that the rational fit behaves weirdly around where the denominator = 0. When we plot a higher-order rational function (see below - 3rd order), we get singularities around each node, which produce matrices that are not invertible $\\implies$ we can't just use np.linalg.inv, since it just inverts every matrix and does not know how to deal with singularities\n",
    "\n",
    "np.linalg.pinv is defined in the numpy documentation as:\n",
    "> \"Calculate[s] the generalized inverse of a matrix using its singular-value decomposition (SVD) and includ[es] all large singular values\"\n",
    "\n",
    "So it should be able to handle the singular variables that arise from higher order rational functions"
   ]
  },
  {
   "cell_type": "code",
   "execution_count": 137,
   "id": "06eb7a78",
   "metadata": {},
   "outputs": [
    {
     "data": {
      "text/plain": [
       "Text(0, 0.5, 'f(x)')"
      ]
     },
     "execution_count": 137,
     "metadata": {},
     "output_type": "execute_result"
    },
    {
     "data": {
      "image/png": "[encoded data removed]",
      "text/plain": [
       "<Figure size 432x288 with 1 Axes>"
      ]
     },
     "metadata": {
      "needs_background": "light"
     },
     "output_type": "display_data"
    }
   ],
   "source": [
    "x = np.linspace(-1,1,1000)\n",
    "plt.plot(x,1/(x**3+x+1))\n",
    "plt.title('Plot of n = 0, m = 3 rational function')\n",
    "plt.xlabel('x')\n",
    "plt.ylabel('f(x)')"
   ]
  },
  {
   "cell_type": "markdown",
   "id": "2d9805dd",
   "metadata": {},
   "source": [
    "Let's run the same rational function fit but just change np.linalg.inv to np.linalg.pinv.\n",
    "\n",
    "This is a much more reasonable fit! No weird spikes at x = 0 and the error is smaller by ~ 5 orders of magnitude."
   ]
  },
  {
   "cell_type": "code",
   "execution_count": 201,
   "id": "3ff0bff6",
   "metadata": {},
   "outputs": [
    {
     "data": {
      "image/png": "[encoded data removed]",
      "text/plain": [
       "<Figure size 432x288 with 1 Axes>"
      ]
     },
     "metadata": {
      "needs_background": "light"
     },
     "output_type": "display_data"
    },
    {
     "name": "stdout",
     "output_type": "stream",
     "text": [
      "rational function error:  5.533771892702031e-16\n"
     ]
    }
   ],
   "source": [
    "n=4 #numerator order\n",
    "m=5 #denominator order\n",
    "\n",
    "x=np.linspace(-1,1,n+m+1)\n",
    "y=fun(x)\n",
    "\n",
    "pcols=[x**k for k in range(n+1)]\n",
    "pmat=np.vstack(pcols)\n",
    "\n",
    "qcols=[-x**k*y for k in range(1,m+1)]\n",
    "qmat=np.vstack(qcols)\n",
    "mat=np.hstack([pmat.T,qmat.T])\n",
    "coeffs=np.linalg.pinv(mat)@y\n",
    "\n",
    "#now that we have coefficients, we can see how well we did\n",
    "xfine=np.linspace(-1,1,1001)\n",
    "\n",
    "p=0\n",
    "for i in range(n+1):\n",
    "    p=p+coeffs[i]*xfine**i\n",
    "qq=1\n",
    "for i in range(m):\n",
    "    qq=qq+coeffs[n+1+i]*xfine**(i+1)\n",
    "\n",
    "y_pred=p/qq\n",
    "y_true=fun(xfine)\n",
    "plt.plot(x,y,'ko')\n",
    "plt.plot(xfine,y_pred,'r--')\n",
    "plt.legend(['actual values','interpolated values'])\n",
    "#plt.plot(xfine,y_pred-y_true)\n",
    "plt.show()\n",
    "\n",
    "print('rational function error: ',np.std(y_pred-y_true))"
   ]
  },
  {
   "cell_type": "code",
   "execution_count": null,
   "id": "23848730",
   "metadata": {},
   "outputs": [],
   "source": []
  }
 ],
 "metadata": {
  "kernelspec": {
   "display_name": "Python 3 (ipykernel)",
   "language": "python",
   "name": "python3"
  },
  "language_info": {
   "codemirror_mode": {
    "name": "ipython",
    "version": 3
   },
   "file_extension": ".py",
   "mimetype": "text/x-python",
   "name": "python",
   "nbconvert_exporter": "python",
   "pygments_lexer": "ipython3",
   "version": "3.9.7"
  }
 },
 "nbformat": 4,
 "nbformat_minor": 5
}
