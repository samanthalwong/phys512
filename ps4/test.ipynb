{
 "cells": [
  {
   "cell_type": "code",
   "execution_count": 27,
   "id": "fcd443b9",
   "metadata": {},
   "outputs": [
    {
     "name": "stdout",
     "output_type": "stream",
     "text": [
      "31486794.11503476\n",
      "22264542.334928673\n",
      "149535588232.43546\n",
      "188402941121.17535\n"
     ]
    }
   ],
   "source": [
    "import numpy as np\n",
    "\n",
    "g = 6.67e-11\n",
    "m_earth = 5.97e24\n",
    "m_sun = 1.99e30\n",
    "dist = 149.38e9\n",
    "period = (365*24*60*60)\n",
    "#print(2*m_earth)\n",
    "\n",
    "f = (g*m_earth*m_sun)/dist**2\n",
    "params = (4*np.pi**2)/(g*(m_earth+m_sun))\n",
    "params2 = (4*np.pi**2)/(g*(m_sun))\n",
    "\n",
    "params_2e = (4*np.pi**2)/(g*(2*m_earth+m_sun))\n",
    "params_2s = (4*np.pi**2)/(g*(m_earth+2*m_sun))\n",
    "\n",
    "p_norm = np.sqrt((4*np.pi**2)/(g*(m_earth+m_sun))*dist**3)\n",
    "p_2s = np.sqrt((4*np.pi**2)/(g*(m_earth+2*m_sun))*dist**3)\n",
    "\n",
    "print(p_norm)\n",
    "print(p_2s)\n",
    "\n",
    "a = (((period**2)*(g*(m_earth+m_sun)))/(4*np.pi**2))**(1/3)\n",
    "print(a)\n",
    "a_2s = (((period**2)*(g*(m_earth+2*m_sun)))/(4*np.pi**2))**(1/3)\n",
    "print(a_2s)"
   ]
  },
  {
   "cell_type": "code",
   "execution_count": 15,
   "id": "95ee5d87",
   "metadata": {},
   "outputs": [
    {
     "name": "stdout",
     "output_type": "stream",
     "text": [
      "2.97426406164706e-19\n",
      "2.974272984439245e-19\n",
      "2.9742551389084115e-19\n",
      "1.4871342615182302e-19\n"
     ]
    }
   ],
   "source": [
    "print(params)\n",
    "print(params2)\n",
    "print(params_2e)\n",
    "print(params_2s)"
   ]
  },
  {
   "cell_type": "code",
   "execution_count": 4,
   "id": "e2c6b333",
   "metadata": {},
   "outputs": [
    {
     "data": {
      "text/plain": [
       "0.005948315562763183"
      ]
     },
     "execution_count": 4,
     "metadata": {},
     "output_type": "execute_result"
    }
   ],
   "source": [
    "f_noearth = (g*m_sun)/dist**2\n",
    "f_noearth"
   ]
  },
  {
   "cell_type": "code",
   "execution_count": 5,
   "id": "0f0a323b",
   "metadata": {},
   "outputs": [
    {
     "data": {
      "text/plain": [
       "7.102288781939241e+22"
      ]
     },
     "execution_count": 5,
     "metadata": {},
     "output_type": "execute_result"
    }
   ],
   "source": [
    "m_earth = 2*m_earth\n",
    "f = (g*m_earth*m_sun)/dist**2\n",
    "f"
   ]
  },
  {
   "cell_type": "code",
   "execution_count": 6,
   "id": "312f5e38",
   "metadata": {},
   "outputs": [
    {
     "data": {
      "text/plain": [
       "7.102288781939241e+22"
      ]
     },
     "execution_count": 6,
     "metadata": {},
     "output_type": "execute_result"
    }
   ],
   "source": [
    "m_sun = 2*m_sun\n",
    "m_earth = 5.97e24\n",
    "\n",
    "f = (g*m_earth*m_sun)/dist**2\n",
    "f"
   ]
  },
  {
   "cell_type": "code",
   "execution_count": 35,
   "id": "0326b37c",
   "metadata": {},
   "outputs": [
    {
     "data": {
      "text/plain": [
       "38982110.693877555"
      ]
     },
     "execution_count": 35,
     "metadata": {},
     "output_type": "execute_result"
    }
   ],
   "source": [
    "m = 792\n",
    "v = 363.0\n",
    "r_p = 44000000000\n",
    "e = 0.51\n",
    "\n",
    "L = ((m*v*r_p*(1+e))/(1-e))/1e9\n",
    "L"
   ]
  },
  {
   "cell_type": "code",
   "execution_count": 38,
   "id": "0fcb3eff",
   "metadata": {},
   "outputs": [
    {
     "data": {
      "text/plain": [
       "148507.66551230988"
      ]
     },
     "execution_count": 38,
     "metadata": {},
     "output_type": "execute_result"
    }
   ],
   "source": [
    "G = 6.67e-11\n",
    "m_planet = 23 * 5.972e24\n",
    "p = 33*60*60\n",
    "\n",
    "a = (((G*m_planet*p**2)/(4*np.pi**2))**(1/3))/1000\n",
    "a"
   ]
  },
  {
   "cell_type": "code",
   "execution_count": 43,
   "id": "71471111",
   "metadata": {},
   "outputs": [
    {
     "data": {
      "text/plain": [
       "1.2381393451147966"
      ]
     },
     "execution_count": 43,
     "metadata": {},
     "output_type": "execute_result"
    }
   ],
   "source": [
    "m1 = 3334\n",
    "m2 = 1e20 \n",
    "r = 4238000\n",
    "\n",
    "f = (G*m1*m2)/r**2\n",
    "f"
   ]
  },
  {
   "cell_type": "code",
   "execution_count": null,
   "id": "e0862a58",
   "metadata": {},
   "outputs": [],
   "source": []
  }
 ],
 "metadata": {
  "kernelspec": {
   "display_name": "Python 3 (ipykernel)",
   "language": "python",
   "name": "python3"
  },
  "language_info": {
   "codemirror_mode": {
    "name": "ipython",
    "version": 3
   },
   "file_extension": ".py",
   "mimetype": "text/x-python",
   "name": "python",
   "nbconvert_exporter": "python",
   "pygments_lexer": "ipython3",
   "version": "3.9.7"
  }
 },
 "nbformat": 4,
 "nbformat_minor": 5
}
